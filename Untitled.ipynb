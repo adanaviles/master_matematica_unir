{
 "cells": [
  {
   "cell_type": "markdown",
   "id": "2657fde1-54bd-4b06-9e8d-93edd2142520",
   "metadata": {},
   "source": [
    " # Examen de ML"
   ]
  },
  {
   "cell_type": "code",
   "execution_count": null,
   "id": "29abf8b3-a227-46b5-88a0-aac1e63fe9c4",
   "metadata": {},
   "outputs": [],
   "source": [
    "# Importamos los paquetes\n",
    "import pandas as pd\n",
    "from sklearn.model_selection import train_test_split\n",
    "from sklearn.datasets import make_classifications"
   ]
  },
  {
   "cell_type": "code",
   "execution_count": null,
   "id": "1a5d092a-d4b3-44dc-b982-217c83107a77",
   "metadata": {},
   "outputs": [],
   "source": [
    "# Clase para crear el dataset\n",
    "class DatasetGenerator:\n",
    "    def __init__(self,\n",
    "                 fecha: str = '28/08/1997'):\n",
    "        \"\"\"\n",
    "        fecha es una string de fecha, espera el formato dd/mm/yyyy\n",
    "        Args:\n",
    "            fecha:\n",
    "        \"\"\"\n",
    "        self.fecha = fecha\n",
    "        self.__check_format()\n",
    "        \n",
    "    def __check_format(self):\n",
    "        \"\"\" Checkea el formato de fecha\n",
    "        \"\"\"\n",
    "        if not isinstance(self.fecha, str):\n",
    "            raise TypeError('fecha no es una string')\n",
    "        if len(self.fecha.split('/')) != 3:\n",
    "            raise TypeError('fecha no tiene 3 componentes separados por /')\n",
    "    \n",
    "    def _get_d_m_s_s1(self):\n",
    "        d = self.fecha.split('/')[0]\n",
    "        m = self.fecha.split('/')[1]\n",
    "        s1 = int(d[0]) + int(d[1])\n",
    "        s2 = int(m[0]) + int(m[1])\n",
    "        s = max(s1, s2)\n",
    "        return int(d), int(m), s, s1\n",
    "\n",
    "    def create_dataset(self) -> pd.DataFrame:\n",
    "        d, m, s, s1 = self._get_d_m_s_s1()\n",
    "        # Si mntngo las diectrices del examen me aparec que\n",
    "        # ValueError: Number of informative, redundant and repeated features must sum to less than the number of total features\n",
    "        try:\n",
    "            X, y = make_classification(n_samples=200+m*10,\n",
    "                                       n_features=10+s,\n",
    "                                       n_informative=10+s1, # Es s1\n",
    "                                       n_redundant=2,\n",
    "                                       n_repeated=0,\n",
    "                                       n_classes=2,\n",
    "                                       random_state=0)\n",
    "        except ValueError:\n",
    "            X, y = make_classification(n_samples=200+m*10,\n",
    "                                       n_features=10+s+3,\n",
    "                                       n_informative=10+s1, # Es s1\n",
    "                                       n_redundant=2,\n",
    "                                       n_repeated=0,\n",
    "                                       n_classes=2,\n",
    "                                       random_state=0)\n",
    "        list_of_features = [\n",
    "            f'feature_{number}' for number in range(0, X.shape[1])\n",
    "        ]\n",
    "        dataset = pd.DataFrame(X, columns=list_of_features)\n",
    "        dataset['target'] = y\n",
    "        return dataset"
   ]
  },
  {
   "cell_type": "code",
   "execution_count": null,
   "id": "77d7c867-b73e-465f-b1bf-8c6b881bd351",
   "metadata": {},
   "outputs": [],
   "source": []
  }
 ],
 "metadata": {
  "kernelspec": {
   "display_name": "Python 3.9 (tensorflow)",
   "language": "python",
   "name": "tensorflow"
  },
  "language_info": {
   "codemirror_mode": {
    "name": "ipython",
    "version": 3
   },
   "file_extension": ".py",
   "mimetype": "text/x-python",
   "name": "python",
   "nbconvert_exporter": "python",
   "pygments_lexer": "ipython3",
   "version": "3.9.12"
  }
 },
 "nbformat": 4,
 "nbformat_minor": 5
}
